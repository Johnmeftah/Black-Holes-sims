{
 "cells": [
  {
   "cell_type": "code",
   "execution_count": 1,
   "id": "4a98ee90",
   "metadata": {},
   "outputs": [],
   "source": [
    "# plotting Redshift (z) as a function of time (t)\n",
    "\n",
    "# start by importing the following packages\n",
    "import numpy as np\n",
    "import matplotlib.pyplot as plt"
   ]
  },
  {
   "cell_type": "code",
   "execution_count": 2,
   "id": "34b94598",
   "metadata": {},
   "outputs": [
    {
     "data": {
      "image/png": "[encoded data removed]",
      "text/plain": [
       "<Figure size 432x288 with 1 Axes>"
      ]
     },
     "metadata": {
      "needs_background": "light"
     },
     "output_type": "display_data"
    }
   ],
   "source": [
    "# begnning of code\n",
    "data_by_Jillian = np.loadtxt(\"C:/Users/John/Desktop/Code/times.list\")  # data provided by Jillian. Type \"C:\" for Windows\n",
    "time_data = data_by_Jillian[:, 0]  # data for time (measured in giga year)\n",
    "redshift_data = data_by_Jillian[:, 1]  # redshift data (z)\n",
    "plt.plot(time_data, redshift_data, '.')\n",
    "plt.xlabel(\"Time (giga-annum)\")  # x-axis label\n",
    "plt.ylabel(\"Redshift\")  # y-axis label\n",
    "plt.title(\"Redshift as Function of Time\")  # graph's name\n",
    "plt.show()\n",
    "\n",
    "# end of code"
   ]
  },
  {
   "cell_type": "code",
   "execution_count": null,
   "id": "5227492a",
   "metadata": {},
   "outputs": [],
   "source": []
  }
 ],
 "metadata": {
  "kernelspec": {
   "display_name": "Python 3",
   "language": "python",
   "name": "python3"
  },
  "language_info": {
   "codemirror_mode": {
    "name": "ipython",
    "version": 3
   },
   "file_extension": ".py",
   "mimetype": "text/x-python",
   "name": "python",
   "nbconvert_exporter": "python",
   "pygments_lexer": "ipython3",
   "version": "3.8.8"
  }
 },
 "nbformat": 4,
 "nbformat_minor": 5
}
